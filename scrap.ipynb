{
 "cells": [
  {
   "cell_type": "code",
   "execution_count": 1,
   "metadata": {},
   "outputs": [],
   "source": [
    "from twitter_scraper import get_tweets\n",
    "import csv                                          "
   ]
  },
  {
   "cell_type": "code",
   "execution_count": 2,
   "metadata": {},
   "outputs": [],
   "source": [
    "def get_data(username):\n",
    "\n",
    "    \n",
    "    with open('extracts.csv', 'w', newline='') as file:\n",
    "        writer = csv.writer(file)\n",
    "        writer.writerow([\"time\", \"tweet\", \"likes\", \"url\", \"replies\", \"retweets\"])\n",
    "\n",
    "        for tweet in get_tweets(username, pages=1):\n",
    "            writer.writerow([tweet['time'], tweet['text'], tweet['likes'], tweet['tweetUrl'], tweet['replies'], tweet['retweets']])                    "
   ]
  },
  {
   "cell_type": "code",
   "execution_count": 3,
   "metadata": {},
   "outputs": [
    {
     "name": "stdout",
     "output_type": "stream",
     "text": [
      "username@kamaalrkhan\n"
     ]
    }
   ],
   "source": [
    "user_name = input('username') \n",
    "if __name__ == '__main__':\n",
    "    get_data(user_name)"
   ]
  },
  {
   "cell_type": "code",
   "execution_count": null,
   "metadata": {},
   "outputs": [],
   "source": []
  }
 ],
 "metadata": {
  "kernelspec": {
   "display_name": "Python 3",
   "language": "python",
   "name": "python3"
  },
  "language_info": {
   "codemirror_mode": {
    "name": "ipython",
    "version": 3
   },
   "file_extension": ".py",
   "mimetype": "text/x-python",
   "name": "python",
   "nbconvert_exporter": "python",
   "pygments_lexer": "ipython3",
   "version": "3.8.2"
  }
 },
 "nbformat": 4,
 "nbformat_minor": 4
}
